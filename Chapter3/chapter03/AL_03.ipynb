{
 "cells": [
  {
   "cell_type": "markdown",
   "metadata": {},
   "source": [
    "알고리즘 3장 연습문제 풀이\n",
    "\n",
    "02. 다음 리스트를 선ㅌ낵 정렬을 이용해 오름차순 으로 정렬하라. 각 단계에서의 배열의 내용을 나타내어라.\n",
    "\n",
    "[7, 4, 9, 6, 3, 8, 7, 5]\n",
    "\n",
    "- "
   ]
  },
  {
   "cell_type": "code",
   "execution_count": 1,
   "metadata": {},
   "outputs": [
    {
     "name": "stdout",
     "output_type": "stream",
     "text": [
      "Original :  [7, 4, 9, 6, 3, 8, 7, 5]\n",
      "[3, 4, 9, 6, 7, 8, 7, 5] 1\n",
      "[3, 4, 9, 6, 7, 8, 7, 5] 2\n",
      "[3, 4, 5, 6, 7, 8, 7, 9] 3\n",
      "[3, 4, 5, 6, 7, 8, 7, 9] 4\n",
      "[3, 4, 5, 6, 7, 8, 7, 9] 5\n",
      "[3, 4, 5, 6, 7, 7, 8, 9] 6\n",
      "[3, 4, 5, 6, 7, 7, 8, 9] 7\n",
      "Selection :  [3, 4, 5, 6, 7, 7, 8, 9]\n"
     ]
    }
   ],
   "source": [
    "def selection_sort(A) :\n",
    "    n = len(A)\n",
    "    for i in range(n-1) :\n",
    "        least = i \n",
    "        for j in range(i+1, n) :\n",
    "            if (A[j]<A[least]) :\n",
    "                least = j\n",
    "        A[i], A[least] = A[least], A[i]\n",
    "        print(A, i+1)\n",
    "        \n",
    "data = [7, 4, 9, 6, 3, 8, 7, 5]\n",
    "print(\"Original : \", data)\n",
    "selection_sort(data)\n",
    "print(\"Selection : \", data)"
   ]
  },
  {
   "cell_type": "markdown",
   "metadata": {},
   "source": [
    "12. 알고리즘 3.4를 일차원 공간의 점에 적용하고자 한다. 즉, 각 점은 x와 같이 x 좌표로만 표시된다. n개의 점이 주어졌을 때 물음에 답하라.\n",
    "\n",
    "(1) distance() 함수는 어떻게 수정되어야 할까?\n",
    "- import math\n",
    "\n",
    "def distance(a, b):\n",
    "    return abs(a - b)\n",
    "\n",
    "(2) 알고리즘 3.4보다 더 효율적인 알고리즘을 설계해 보라.\n",
    "- \n",
    "import math\n",
    "\n",
    "def closest_pair(points):\n",
    "     points.sort()\n",
    "\n",
    "    min_distance = float('inf')\n",
    "\n",
    "    for i in range(len(points) - 1):\n",
    "        dist = abs(points[i] - points[i + 1])\n",
    "        min_distance = min(min_distance, dist)\n",
    "\n",
    "알고리즘 선택문제 \n",
    "\n",
    "19. 일 배정 문제에 대한 억지 기법 알고리즘을 파이썬으로 구현하고 간단한 입력에 대해 테스트하라. "
   ]
  },
  {
   "cell_type": "code",
   "execution_count": 2,
   "metadata": {},
   "outputs": [
    {
     "name": "stdout",
     "output_type": "stream",
     "text": [
      "일 배정 결과: {7: 8, 5: 6, 3: 4, 2: None}\n"
     ]
    }
   ],
   "source": [
    "def greedy_assignment(jobs, workers):\n",
    "    # 각 작업과 일꾼을 정렬.\n",
    "    jobs.sort(reverse=True)  # 작업 시간이 긴 순서대로 정렬\n",
    "    workers.sort(reverse=True)  # 능력이 높은 순서대로 정렬\n",
    "\n",
    "    # 작업과 일꾼을 하나씩 매칭.\n",
    "    assignments = {}\n",
    "    for job in jobs:\n",
    "        assigned = False\n",
    "        for worker in workers:\n",
    "            if worker >= job:  # 일꾼이 작업을 처리할 수 있는 경우\n",
    "                assignments[job] = worker\n",
    "                workers.remove(worker)  # 일꾼을 배정했으므로 리스트에서 제거\n",
    "                assigned = True\n",
    "                break\n",
    "        if not assigned:  # 일꾼을 찾지 못한 경우\n",
    "            assignments[job] = None\n",
    "\n",
    "    return assignments\n",
    "\n",
    "# 간단한 입력으로 테스트\n",
    "jobs = [3, 5, 2, 7]  # 각 작업의 소요 시간\n",
    "workers = [4, 6, 8]  # 각 일꾼의 능력\n",
    "\n",
    "assignments = greedy_assignment(jobs, workers)\n",
    "print(\"일 배정 결과:\", assignments)\n"
   ]
  }
 ],
 "metadata": {
  "kernelspec": {
   "display_name": "Python 3",
   "language": "python",
   "name": "python3"
  },
  "language_info": {
   "codemirror_mode": {
    "name": "ipython",
    "version": 3
   },
   "file_extension": ".py",
   "mimetype": "text/x-python",
   "name": "python",
   "nbconvert_exporter": "python",
   "pygments_lexer": "ipython3",
   "version": "3.11.9"
  }
 },
 "nbformat": 4,
 "nbformat_minor": 2
}
