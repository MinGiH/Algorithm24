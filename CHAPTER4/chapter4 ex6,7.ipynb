{
 "cells": [
  {
   "cell_type": "markdown",
   "metadata": {},
   "source": [
    "알고리즘 4장 집단지성 연습문제 풀이\n",
    "\n",
    "6. 셸 정렬(shell sort)은 삽입 정렬이 어느 정도 정렬된 배열에 대해서는 대단히 빠른 것에 착안한 정렬 방법이다. 이 정렬 방법을 찾아보고 삽입 정렬과의 차이를 설명해 보라.\n",
    "\n",
    "-셸 정렬은 삽입 정렬을 개선하여 보다 넓은 범위에서 요소들을 빠르게 교환하고 정렬할 수 있도록 한 점에서 큰 차이를 보인다. 이로 인해 삽입 정렬이 가진 비효율적인 요소들을 개선하며, 실제 사용에서 보다 빠른 성능을 보일 수 있다.\n",
    "\n",
    "\n",
    "7. 다음의 방향 그래프에 대해 DFS 기반 위상 정렬을 수행하라.\n"
   ]
  },
  {
   "cell_type": "code",
   "execution_count": 15,
   "metadata": {},
   "outputs": [
    {
     "name": "stdout",
     "output_type": "stream",
     "text": [
      "그래프 1 위상 정렬 결과: ['a', 'b', 'c', 'd', 'f', 'e', 'g']\n",
      "그래프 2 위상 정렬 결과: 그래프에 사이클이 존재하여 위상 정렬을 수행할 수 없습니다.\n"
     ]
    }
   ],
   "source": [
    "from collections import defaultdict, deque\n",
    "\n",
    "class Graph:\n",
    "    def __init__(self):\n",
    "        self.graph = defaultdict(list)\n",
    "    \n",
    "    def add_edge(self, u, v):\n",
    "        self.graph[u].append(v)\n",
    "        if v not in self.graph:\n",
    "            self.graph[v] = []\n",
    "\n",
    "    def is_cyclic(self):\n",
    "        visited = defaultdict(bool)\n",
    "        rec_stack = defaultdict(bool)\n",
    "\n",
    "        def dfs(node):\n",
    "            if not visited[node]:\n",
    "                visited[node] = True\n",
    "                rec_stack[node] = True\n",
    "                for neighbor in self.graph[node]:\n",
    "                    if not visited[neighbor] and dfs(neighbor):\n",
    "                        return True\n",
    "                    elif rec_stack[neighbor]:\n",
    "                        return True\n",
    "            rec_stack[node] = False\n",
    "            return False\n",
    "\n",
    "        # 딕셔너리의 크기가 변경되지 않도록 노드 리스트를 미리 만듭니다.\n",
    "        nodes = list(self.graph.keys())\n",
    "        for node in nodes:\n",
    "            if not visited[node]:\n",
    "                if dfs(node):\n",
    "                    return True\n",
    "        return False\n",
    "    \n",
    "    def topological_sort(self):\n",
    "        if self.is_cyclic():\n",
    "            return \"그래프에 사이클이 존재하여 위상 정렬을 수행할 수 없습니다.\"\n",
    "        \n",
    "        in_degree = defaultdict(int)\n",
    "        for u in self.graph:\n",
    "            for v in self.graph[u]:\n",
    "                in_degree[v] += 1\n",
    "        \n",
    "        queue = deque([node for node in self.graph if in_degree[node] == 0])\n",
    "        topo_order = []\n",
    "        \n",
    "        while queue:\n",
    "            node = queue.popleft()\n",
    "            topo_order.append(node)\n",
    "            for neighbor in self.graph[node]:\n",
    "                in_degree[neighbor] -= 1\n",
    "                if in_degree[neighbor] == 0:\n",
    "                    queue.append(neighbor)\n",
    "        \n",
    "        if len(topo_order) == len(self.graph):\n",
    "            return topo_order\n",
    "        else:\n",
    "            return \"그래프에 사이클이 존재하여 위상 정렬을 수행할 수 없습니다.\"\n",
    "\n",
    "# 그래프 1\n",
    "graph1 = Graph()\n",
    "edges1 = [('a', 'd'), ('a', 'e'), ('b', 'e'), ('b', 'f'), ('c', 'g'), ('d', 'e'), ('f', 'g')]\n",
    "for u, v in edges1:\n",
    "    graph1.add_edge(u, v)\n",
    "\n",
    "# 그래프 2\n",
    "graph2 = Graph()\n",
    "edges2 = [('a', 'b'), ('a', 'c'), ('b', 'd'), ('c', 'd'), ('c', 'e'), ('e', 'g'), ('e', 'h'), ('g', 'h'), ('h', 'c')]\n",
    "for u, v in edges2:\n",
    "    graph2.add_edge(u, v)\n",
    "\n",
    "# 결과 출력\n",
    "print(\"그래프 1 위상 정렬 결과:\", graph1.topological_sort())\n",
    "print(\"그래프 2 위상 정렬 결과:\", graph2.topological_sort())\n"
   ]
  }
 ],
 "metadata": {
  "kernelspec": {
   "display_name": "Python 3",
   "language": "python",
   "name": "python3"
  },
  "language_info": {
   "codemirror_mode": {
    "name": "ipython",
    "version": 3
   },
   "file_extension": ".py",
   "mimetype": "text/x-python",
   "name": "python",
   "nbconvert_exporter": "python",
   "pygments_lexer": "ipython3",
   "version": "3.11.9"
  }
 },
 "nbformat": 4,
 "nbformat_minor": 2
}
