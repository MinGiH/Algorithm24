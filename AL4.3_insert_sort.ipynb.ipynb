{
 "cells": [
  {
   "cell_type": "markdown",
   "metadata": {},
   "source": [
    "  1) 문제 정의 (MD)\n",
    "\n",
    "  정렬 문제를 축소 정복 기법으로 해결해보자. n개의 항목을 가진 리스트A[0..n-1]을 오름차순으로 정렬하려고 한다. 축소 정보 전략을 위해서는 먼저 원래의 문제와 더 작은 문제 사이의 관계를 찾아야 한다.\n",
    "\n",
    " 2) 알고리즘 설명  (MD)\n",
    "\n",
    " 1부터 루프를 돌면서 각 요소를 처리 -> 현재 요소를 선택해 KEY변수에 저장 \n",
    "\n",
    " -> 이전에 정렬된 부분과 비교하여 올바른 위치에 삽입 -> 적절한 위치를 \n",
    " \n",
    " 찾으면 KEY를 해당 위치에 삽입 -> 이 과정을 반복\n",
    "\n",
    "이렇게 하여 정렬을 수행하는 알고리즘 \n",
    "\n",
    " 3) 손으로 푼 예제 (MD, 이미지 삽입)\n",
    "      - 손으로 푼 결과 이미지 삽입 ![이름][img/이미지.jpg]\n",
    "\n",
    "4) 코드 개요(입력 변수, 출력, 함수 설명) (MD)\n",
    "\n",
    "함수명: Insertion sort(A)\n",
    "\n",
    "입력 변수 : 리스트의 값 data = [5, 3, 8, 4, 9, 1, 6, 2, 7]\n",
    "\n",
    "출력 : Original: [5, 3, 8, 4, 9, 1, 6, 2, 7]\n",
    "[3, 5, 8, 4, 9, 1, 6, 2, 7]\n",
    "[3, 5, 8, 4, 9, 1, 6, 2, 7]\n",
    "[3, 4, 5, 8, 9, 1, 6, 2, 7]\n",
    "[3, 4, 5, 8, 9, 1, 6, 2, 7]\n",
    "[1, 3, 4, 5, 8, 9, 6, 2, 7]\n",
    "[1, 3, 4, 5, 6, 8, 9, 2, 7]\n",
    "[1, 2, 3, 4, 5, 6, 8, 9, 7]\n",
    "[1, 2, 3, 4, 5, 6, 7, 8, 9]\n",
    "\n",
    "반환값: 정렬한 리스트 \n",
    "\n",
    "함수 설명: 리스트 A를 매개변수로 받고 리스트의 길이를 구하고, 인덱스 1부터 \n",
    "\n",
    "시작하여 루프를 돌면서 각 요소를 처리한다. 현재 요소를 선택하여 key 변수에 \n",
    "\n",
    "저장한 후에 선택된 요소를 이전에 정렬된 부분과 비교하여 올바른 위치에 \n",
    "\n",
    "삽입. 이를 위해 key와 비교하는 요소를 선택하고, 이전에 정렬된 부분을 \n",
    "\n",
    "오른쪽으로 이동시킨 후에 적절한 위치를 찾으면 key를 해당 위치에 삽입.\n",
    "\n",
    "이 과정을 리스트의 모든 요소에 대해 반복하면서 정렬을 완료하는 함수.\n",
    "\n",
    " 5) 코드 (PY,C)"
   ]
  },
  {
   "cell_type": "code",
   "execution_count": 1,
   "metadata": {},
   "outputs": [
    {
     "name": "stdout",
     "output_type": "stream",
     "text": [
      "Original: [5, 3, 8, 4, 9, 1, 6, 2, 7]\n",
      "[3, 5, 8, 4, 9, 1, 6, 2, 7]\n",
      "[3, 5, 8, 4, 9, 1, 6, 2, 7]\n",
      "[3, 4, 5, 8, 9, 1, 6, 2, 7]\n",
      "[3, 4, 5, 8, 9, 1, 6, 2, 7]\n",
      "[1, 3, 4, 5, 8, 9, 6, 2, 7]\n",
      "[1, 3, 4, 5, 6, 8, 9, 2, 7]\n",
      "[1, 2, 3, 4, 5, 6, 8, 9, 7]\n",
      "[1, 2, 3, 4, 5, 6, 7, 8, 9]\n"
     ]
    }
   ],
   "source": [
    "def insertion_sort(A):\n",
    "    n = len(A)\n",
    "    for i in range(1, n):\n",
    "        key = A[i]\n",
    "        j = i - 1\n",
    "        while j >= 0 and A[j] > key:\n",
    "            A[j + 1] = A[j]\n",
    "            j = j - 1\n",
    "        A[j + 1] = key\n",
    "        print(A)\n",
    "\n",
    "data = [5, 3, 8, 4, 9, 1, 6, 2, 7]\n",
    "print(\"Original:\", data)\n",
    "insertion_sort(data)\n"
   ]
  },
  {
   "cell_type": "markdown",
   "metadata": {},
   "source": [
    "6) 테스트 코드  (PY,C) , 입력을 바꾸어서\n",
    "\n"
   ]
  },
  {
   "cell_type": "code",
   "execution_count": 2,
   "metadata": {},
   "outputs": [
    {
     "name": "stdout",
     "output_type": "stream",
     "text": [
      "Original: [4, 8, 3, 5, 9, 1, 6, 2, 7]\n",
      "[4, 8, 3, 5, 9, 1, 6, 2, 7]\n",
      "[3, 4, 8, 5, 9, 1, 6, 2, 7]\n",
      "[3, 4, 5, 8, 9, 1, 6, 2, 7]\n",
      "[3, 4, 5, 8, 9, 1, 6, 2, 7]\n",
      "[1, 3, 4, 5, 8, 9, 6, 2, 7]\n",
      "[1, 3, 4, 5, 6, 8, 9, 2, 7]\n",
      "[1, 2, 3, 4, 5, 6, 8, 9, 7]\n",
      "[1, 2, 3, 4, 5, 6, 7, 8, 9]\n"
     ]
    }
   ],
   "source": [
    "def insertion_sort(A):\n",
    "    n = len(A)\n",
    "    for i in range(1, n):\n",
    "        key = A[i]\n",
    "        j = i - 1\n",
    "        while j >= 0 and A[j] > key:\n",
    "            A[j + 1] = A[j]\n",
    "            j = j - 1\n",
    "        A[j + 1] = key\n",
    "        print(A)\n",
    "\n",
    "data = [4, 8, 3, 5, 9, 1, 6, 2, 7]\n",
    "print(\"Original:\", data)\n",
    "insertion_sort(data)"
   ]
  },
  {
   "cell_type": "markdown",
   "metadata": {},
   "source": [
    "  7) 수행 결과 (MD, 결과 캡춰하여 이미지로 삽입)\n",
    "\n",
    " ![결과](AA.png)\n",
    "\n",
    "\n",
    "  8) 복잡도 분석 (MD)\n",
    "최선의 경우: 𝑂(𝑛)\n",
    "\n",
    "최악의 경우: 𝑂(𝑛^2)\n",
    "\n",
    "평균적인 경우 : 𝑂(𝑛^2)\n",
    "\n",
    "9) 협력 내용(조별, 팀별)\n",
    "\n",
    "\n",
    "\n"
   ]
  },
  {
   "cell_type": "markdown",
   "metadata": {},
   "source": []
  }
 ],
 "metadata": {
  "kernelspec": {
   "display_name": "Python 3",
   "language": "python",
   "name": "python3"
  },
  "language_info": {
   "codemirror_mode": {
    "name": "ipython",
    "version": 3
   },
   "file_extension": ".py",
   "mimetype": "text/x-python",
   "name": "python",
   "nbconvert_exporter": "python",
   "pygments_lexer": "ipython3",
   "version": "3.12.2"
  }
 },
 "nbformat": 4,
 "nbformat_minor": 2
}
